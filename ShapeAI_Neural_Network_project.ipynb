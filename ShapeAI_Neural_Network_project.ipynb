{
  "nbformat": 4,
  "nbformat_minor": 0,
  "metadata": {
    "colab": {
      "name": "ShapeAI_Neural_Network_project.ipynb",
      "provenance": [],
      "collapsed_sections": []
    },
    "kernelspec": {
      "name": "python3",
      "display_name": "Python 3"
    },
    "accelerator": "GPU"
  },
  "cells": [
    {
      "cell_type": "markdown",
      "metadata": {
        "id": "9RUZedHChavY"
      },
      "source": [
        "#Name - Harsh Hariramani\r\n",
        "#Email ID - harshhariramani18@gmail.com"
      ]
    },
    {
      "cell_type": "markdown",
      "metadata": {
        "id": "j32GzryPl7jp"
      },
      "source": [
        "#---------------------------------------------------------------------------------------------------"
      ]
    },
    {
      "cell_type": "markdown",
      "metadata": {
        "id": "ZgHacAwRlVJ2"
      },
      "source": [
        "\r\n",
        "#Importing the Fashion MNIST dataset and loading the data\r\n",
        "Also I have split the data into training data and test data while loading"
      ]
    },
    {
      "cell_type": "code",
      "metadata": {
        "id": "wr2OOtEWHkPW",
        "colab": {
          "base_uri": "https://localhost:8080/"
        },
        "outputId": "8659e44c-763b-4037-95f1-f4b99efd200c"
      },
      "source": [
        "import tensorflow as tf\r\n",
        "from tensorflow.keras.models import Sequential\r\n",
        "from tensorflow.keras.layers import Input, Dense\r\n",
        "import numpy as np\r\n",
        "\r\n",
        "fashion_mnist = tf.keras.datasets.fashion_mnist\r\n",
        "(train_images, train_labels), (test_images, test_labels) = fashion_mnist.load_data()\r\n"
      ],
      "execution_count": 1,
      "outputs": [
        {
          "output_type": "stream",
          "text": [
            "Downloading data from https://storage.googleapis.com/tensorflow/tf-keras-datasets/train-labels-idx1-ubyte.gz\n",
            "32768/29515 [=================================] - 0s 0us/step\n",
            "Downloading data from https://storage.googleapis.com/tensorflow/tf-keras-datasets/train-images-idx3-ubyte.gz\n",
            "26427392/26421880 [==============================] - 1s 0us/step\n",
            "Downloading data from https://storage.googleapis.com/tensorflow/tf-keras-datasets/t10k-labels-idx1-ubyte.gz\n",
            "8192/5148 [===============================================] - 0s 0us/step\n",
            "Downloading data from https://storage.googleapis.com/tensorflow/tf-keras-datasets/t10k-images-idx3-ubyte.gz\n",
            "4423680/4422102 [==============================] - 0s 0us/step\n"
          ],
          "name": "stdout"
        }
      ]
    },
    {
      "cell_type": "markdown",
      "metadata": {
        "id": "9FjDcxSyikyw"
      },
      "source": [
        "#Checking the shape of the entire picture"
      ]
    },
    {
      "cell_type": "code",
      "metadata": {
        "colab": {
          "base_uri": "https://localhost:8080/"
        },
        "id": "KxTWB85VJa4P",
        "outputId": "5f993b90-ba6a-4d0a-a4b4-5ff1072444b3"
      },
      "source": [
        "train_images[0].shape"
      ],
      "execution_count": 2,
      "outputs": [
        {
          "output_type": "execute_result",
          "data": {
            "text/plain": [
              "(28, 28)"
            ]
          },
          "metadata": {
            "tags": []
          },
          "execution_count": 2
        }
      ]
    },
    {
      "cell_type": "markdown",
      "metadata": {
        "id": "Hjk2QfoXix8_"
      },
      "source": [
        "#Reshaping the picture"
      ]
    },
    {
      "cell_type": "code",
      "metadata": {
        "id": "pa_PnL3PJlpv"
      },
      "source": [
        "train_images= train_images.reshape((train_images.shape[0],28*28))\r\n",
        "test_images= test_images.reshape((test_images.shape[0],28*28))"
      ],
      "execution_count": 3,
      "outputs": []
    },
    {
      "cell_type": "markdown",
      "metadata": {
        "id": "llVowVEwi6kU"
      },
      "source": [
        "#Normalizing the values"
      ]
    },
    {
      "cell_type": "code",
      "metadata": {
        "id": "EdUIlMghKzmH"
      },
      "source": [
        "train_images= train_images/255\r\n",
        "test_images= test_images/255"
      ],
      "execution_count": 4,
      "outputs": []
    },
    {
      "cell_type": "markdown",
      "metadata": {
        "id": "OslAuZ8RoI91"
      },
      "source": [
        "# Printing the number of neurons/values present in the train and test data"
      ]
    },
    {
      "cell_type": "code",
      "metadata": {
        "colab": {
          "base_uri": "https://localhost:8080/"
        },
        "id": "U1YqbQJkLDA8",
        "outputId": "c1268dc2-32b2-4c03-e73e-f94ad8ca8b24"
      },
      "source": [
        "from keras.utils import np_utils\r\n",
        "train_labels=np_utils.to_categorical(train_labels)\r\n",
        "test_labels=np_utils.to_categorical(test_labels)\r\n",
        "num_classes=test_labels.shape[1]\r\n",
        "print(num_classes)"
      ],
      "execution_count": 5,
      "outputs": [
        {
          "output_type": "stream",
          "text": [
            "10\n"
          ],
          "name": "stdout"
        }
      ]
    },
    {
      "cell_type": "code",
      "metadata": {
        "id": "Hv4Vfv0ILoH-"
      },
      "source": [
        "from keras.models import Sequential\r\n",
        "from keras.layers import Dense\r\n",
        "from keras.layers import Dropout"
      ],
      "execution_count": 7,
      "outputs": []
    },
    {
      "cell_type": "markdown",
      "metadata": {
        "id": "2rlrAJOqjDK9"
      },
      "source": [
        "#Making the entire model and Adding 5 hidden layers to the model"
      ]
    },
    {
      "cell_type": "code",
      "metadata": {
        "id": "7pZ_-NntMBJE"
      },
      "source": [
        "model = Sequential()\r\n",
        "model.add(Dense(32, input_dim = 28*28 , activation='relu'))                     ## hidden layer 1\r\n",
        "model.add(Dense(64, activation='relu'))                                         ## hidden layer 2\r\n",
        "model.add(Dense(32, activation='relu'))                                         ## hidden layer 3\r\n",
        "model.add(Dense(25, activation='relu'))                                         ## hidden layer 4\r\n",
        "model.add(Dense(62, activation='relu'))                                         ## hidden layer 5\r\n",
        "model.add(Dense(10, activation='softmax'))                                      ## Output layer"
      ],
      "execution_count": 8,
      "outputs": []
    },
    {
      "cell_type": "markdown",
      "metadata": {
        "id": "48flsCbekPgE"
      },
      "source": [
        "#Compiling the model"
      ]
    },
    {
      "cell_type": "code",
      "metadata": {
        "id": "nc9ex3dhMpVU"
      },
      "source": [
        " model.compile(loss='categorical_crossentropy', optimizer='adam', metrics=['accuracy'])"
      ],
      "execution_count": 11,
      "outputs": []
    },
    {
      "cell_type": "markdown",
      "metadata": {
        "id": "lXuYQTkokKA_"
      },
      "source": [
        "#Summary of the layers used in the model"
      ]
    },
    {
      "cell_type": "code",
      "metadata": {
        "colab": {
          "base_uri": "https://localhost:8080/"
        },
        "id": "ctWo7f3kMxK9",
        "outputId": "1540b174-e501-4a6f-8993-d226ff3cf7c4"
      },
      "source": [
        "model.summary()"
      ],
      "execution_count": 9,
      "outputs": [
        {
          "output_type": "stream",
          "text": [
            "Model: \"sequential\"\n",
            "_________________________________________________________________\n",
            "Layer (type)                 Output Shape              Param #   \n",
            "=================================================================\n",
            "dense (Dense)                (None, 32)                25120     \n",
            "_________________________________________________________________\n",
            "dense_1 (Dense)              (None, 64)                2112      \n",
            "_________________________________________________________________\n",
            "dense_2 (Dense)              (None, 32)                2080      \n",
            "_________________________________________________________________\n",
            "dense_3 (Dense)              (None, 25)                825       \n",
            "_________________________________________________________________\n",
            "dense_4 (Dense)              (None, 62)                1612      \n",
            "_________________________________________________________________\n",
            "dense_5 (Dense)              (None, 10)                630       \n",
            "=================================================================\n",
            "Total params: 32,379\n",
            "Trainable params: 32,379\n",
            "Non-trainable params: 0\n",
            "_________________________________________________________________\n"
          ],
          "name": "stdout"
        }
      ]
    },
    {
      "cell_type": "markdown",
      "metadata": {
        "id": "phGjzFN-pSnn"
      },
      "source": [
        "#Fitting the model"
      ]
    },
    {
      "cell_type": "code",
      "metadata": {
        "colab": {
          "base_uri": "https://localhost:8080/"
        },
        "id": "k2_ilEngM3Um",
        "outputId": "cd939140-cb74-4ee7-db26-e623a9eb6ca2"
      },
      "source": [
        "model.fit(train_images, train_labels, validation_split=0.2 , epochs=50, batch_size=100)"
      ],
      "execution_count": 12,
      "outputs": [
        {
          "output_type": "stream",
          "text": [
            "Epoch 1/50\n",
            "480/480 [==============================] - 4s 4ms/step - loss: 1.0391 - accuracy: 0.6235 - val_loss: 0.4985 - val_accuracy: 0.8188\n",
            "Epoch 2/50\n",
            "480/480 [==============================] - 1s 3ms/step - loss: 0.4615 - accuracy: 0.8356 - val_loss: 0.4430 - val_accuracy: 0.8407\n",
            "Epoch 3/50\n",
            "480/480 [==============================] - 1s 3ms/step - loss: 0.4139 - accuracy: 0.8500 - val_loss: 0.4087 - val_accuracy: 0.8504\n",
            "Epoch 4/50\n",
            "480/480 [==============================] - 1s 3ms/step - loss: 0.3813 - accuracy: 0.8605 - val_loss: 0.3798 - val_accuracy: 0.8604\n",
            "Epoch 5/50\n",
            "480/480 [==============================] - 1s 3ms/step - loss: 0.3669 - accuracy: 0.8643 - val_loss: 0.3869 - val_accuracy: 0.8598\n",
            "Epoch 6/50\n",
            "480/480 [==============================] - 1s 3ms/step - loss: 0.3431 - accuracy: 0.8758 - val_loss: 0.3786 - val_accuracy: 0.8629\n",
            "Epoch 7/50\n",
            "480/480 [==============================] - 1s 3ms/step - loss: 0.3246 - accuracy: 0.8789 - val_loss: 0.3587 - val_accuracy: 0.8687\n",
            "Epoch 8/50\n",
            "480/480 [==============================] - 1s 3ms/step - loss: 0.3244 - accuracy: 0.8797 - val_loss: 0.3710 - val_accuracy: 0.8648\n",
            "Epoch 9/50\n",
            "480/480 [==============================] - 1s 3ms/step - loss: 0.3176 - accuracy: 0.8813 - val_loss: 0.3536 - val_accuracy: 0.8719\n",
            "Epoch 10/50\n",
            "480/480 [==============================] - 1s 2ms/step - loss: 0.2976 - accuracy: 0.8876 - val_loss: 0.3885 - val_accuracy: 0.8572\n",
            "Epoch 11/50\n",
            "480/480 [==============================] - 1s 3ms/step - loss: 0.2975 - accuracy: 0.8913 - val_loss: 0.3537 - val_accuracy: 0.8762\n",
            "Epoch 12/50\n",
            "480/480 [==============================] - 1s 3ms/step - loss: 0.2877 - accuracy: 0.8930 - val_loss: 0.3650 - val_accuracy: 0.8714\n",
            "Epoch 13/50\n",
            "480/480 [==============================] - 1s 2ms/step - loss: 0.2824 - accuracy: 0.8951 - val_loss: 0.3368 - val_accuracy: 0.8809\n",
            "Epoch 14/50\n",
            "480/480 [==============================] - 1s 3ms/step - loss: 0.2732 - accuracy: 0.8972 - val_loss: 0.3573 - val_accuracy: 0.8757\n",
            "Epoch 15/50\n",
            "480/480 [==============================] - 1s 3ms/step - loss: 0.2698 - accuracy: 0.8978 - val_loss: 0.3397 - val_accuracy: 0.8798\n",
            "Epoch 16/50\n",
            "480/480 [==============================] - 1s 3ms/step - loss: 0.2656 - accuracy: 0.8988 - val_loss: 0.3652 - val_accuracy: 0.8756\n",
            "Epoch 17/50\n",
            "480/480 [==============================] - 1s 2ms/step - loss: 0.2632 - accuracy: 0.9020 - val_loss: 0.3580 - val_accuracy: 0.8742\n",
            "Epoch 18/50\n",
            "480/480 [==============================] - 1s 3ms/step - loss: 0.2514 - accuracy: 0.9049 - val_loss: 0.3642 - val_accuracy: 0.8716\n",
            "Epoch 19/50\n",
            "480/480 [==============================] - 1s 3ms/step - loss: 0.2578 - accuracy: 0.9035 - val_loss: 0.3779 - val_accuracy: 0.8708\n",
            "Epoch 20/50\n",
            "480/480 [==============================] - 1s 3ms/step - loss: 0.2488 - accuracy: 0.9070 - val_loss: 0.3422 - val_accuracy: 0.8822\n",
            "Epoch 21/50\n",
            "480/480 [==============================] - 1s 3ms/step - loss: 0.2441 - accuracy: 0.9100 - val_loss: 0.3506 - val_accuracy: 0.8793\n",
            "Epoch 22/50\n",
            "480/480 [==============================] - 1s 3ms/step - loss: 0.2410 - accuracy: 0.9104 - val_loss: 0.3564 - val_accuracy: 0.8776\n",
            "Epoch 23/50\n",
            "480/480 [==============================] - 1s 3ms/step - loss: 0.2428 - accuracy: 0.9086 - val_loss: 0.3532 - val_accuracy: 0.8803\n",
            "Epoch 24/50\n",
            "480/480 [==============================] - 1s 3ms/step - loss: 0.2341 - accuracy: 0.9119 - val_loss: 0.3530 - val_accuracy: 0.8814\n",
            "Epoch 25/50\n",
            "480/480 [==============================] - 1s 2ms/step - loss: 0.2241 - accuracy: 0.9139 - val_loss: 0.3636 - val_accuracy: 0.8819\n",
            "Epoch 26/50\n",
            "480/480 [==============================] - 1s 3ms/step - loss: 0.2267 - accuracy: 0.9153 - val_loss: 0.3524 - val_accuracy: 0.8797\n",
            "Epoch 27/50\n",
            "480/480 [==============================] - 1s 3ms/step - loss: 0.2237 - accuracy: 0.9151 - val_loss: 0.3831 - val_accuracy: 0.8748\n",
            "Epoch 28/50\n",
            "480/480 [==============================] - 1s 2ms/step - loss: 0.2148 - accuracy: 0.9190 - val_loss: 0.3698 - val_accuracy: 0.8800\n",
            "Epoch 29/50\n",
            "480/480 [==============================] - 1s 3ms/step - loss: 0.2137 - accuracy: 0.9198 - val_loss: 0.3816 - val_accuracy: 0.8783\n",
            "Epoch 30/50\n",
            "480/480 [==============================] - 1s 3ms/step - loss: 0.2154 - accuracy: 0.9200 - val_loss: 0.3612 - val_accuracy: 0.8801\n",
            "Epoch 31/50\n",
            "480/480 [==============================] - 1s 2ms/step - loss: 0.2022 - accuracy: 0.9239 - val_loss: 0.3672 - val_accuracy: 0.8765\n",
            "Epoch 32/50\n",
            "480/480 [==============================] - 1s 3ms/step - loss: 0.2030 - accuracy: 0.9234 - val_loss: 0.3833 - val_accuracy: 0.8780\n",
            "Epoch 33/50\n",
            "480/480 [==============================] - 1s 3ms/step - loss: 0.2097 - accuracy: 0.9197 - val_loss: 0.3568 - val_accuracy: 0.8840\n",
            "Epoch 34/50\n",
            "480/480 [==============================] - 1s 3ms/step - loss: 0.2029 - accuracy: 0.9241 - val_loss: 0.3624 - val_accuracy: 0.8813\n",
            "Epoch 35/50\n",
            "480/480 [==============================] - 1s 3ms/step - loss: 0.1967 - accuracy: 0.9260 - val_loss: 0.3926 - val_accuracy: 0.8744\n",
            "Epoch 36/50\n",
            "480/480 [==============================] - 1s 3ms/step - loss: 0.1998 - accuracy: 0.9242 - val_loss: 0.3763 - val_accuracy: 0.8783\n",
            "Epoch 37/50\n",
            "480/480 [==============================] - 1s 3ms/step - loss: 0.1982 - accuracy: 0.9267 - val_loss: 0.4122 - val_accuracy: 0.8755\n",
            "Epoch 38/50\n",
            "480/480 [==============================] - 1s 3ms/step - loss: 0.1902 - accuracy: 0.9293 - val_loss: 0.3788 - val_accuracy: 0.8801\n",
            "Epoch 39/50\n",
            "480/480 [==============================] - 1s 2ms/step - loss: 0.1846 - accuracy: 0.9293 - val_loss: 0.3749 - val_accuracy: 0.8826\n",
            "Epoch 40/50\n",
            "480/480 [==============================] - 1s 3ms/step - loss: 0.1852 - accuracy: 0.9300 - val_loss: 0.3943 - val_accuracy: 0.8758\n",
            "Epoch 41/50\n",
            "480/480 [==============================] - 1s 2ms/step - loss: 0.1861 - accuracy: 0.9314 - val_loss: 0.4572 - val_accuracy: 0.8702\n",
            "Epoch 42/50\n",
            "480/480 [==============================] - 1s 3ms/step - loss: 0.1852 - accuracy: 0.9300 - val_loss: 0.3992 - val_accuracy: 0.8785\n",
            "Epoch 43/50\n",
            "480/480 [==============================] - 1s 3ms/step - loss: 0.1868 - accuracy: 0.9314 - val_loss: 0.3970 - val_accuracy: 0.8794\n",
            "Epoch 44/50\n",
            "480/480 [==============================] - 1s 3ms/step - loss: 0.1787 - accuracy: 0.9330 - val_loss: 0.4153 - val_accuracy: 0.8740\n",
            "Epoch 45/50\n",
            "480/480 [==============================] - 1s 2ms/step - loss: 0.1828 - accuracy: 0.9298 - val_loss: 0.3763 - val_accuracy: 0.8800\n",
            "Epoch 46/50\n",
            "480/480 [==============================] - 1s 3ms/step - loss: 0.1721 - accuracy: 0.9346 - val_loss: 0.4151 - val_accuracy: 0.8773\n",
            "Epoch 47/50\n",
            "480/480 [==============================] - 1s 3ms/step - loss: 0.1730 - accuracy: 0.9349 - val_loss: 0.4114 - val_accuracy: 0.8804\n",
            "Epoch 48/50\n",
            "480/480 [==============================] - 1s 3ms/step - loss: 0.1774 - accuracy: 0.9320 - val_loss: 0.4211 - val_accuracy: 0.8802\n",
            "Epoch 49/50\n",
            "480/480 [==============================] - 1s 3ms/step - loss: 0.1700 - accuracy: 0.9357 - val_loss: 0.4368 - val_accuracy: 0.8758\n",
            "Epoch 50/50\n",
            "480/480 [==============================] - 1s 2ms/step - loss: 0.1704 - accuracy: 0.9348 - val_loss: 0.4281 - val_accuracy: 0.8770\n"
          ],
          "name": "stdout"
        },
        {
          "output_type": "execute_result",
          "data": {
            "text/plain": [
              "<tensorflow.python.keras.callbacks.History at 0x7f584c5837f0>"
            ]
          },
          "metadata": {
            "tags": []
          },
          "execution_count": 12
        }
      ]
    },
    {
      "cell_type": "markdown",
      "metadata": {
        "id": "X8CnqLOlklSq"
      },
      "source": [
        "#Checking the accuracy on the unseen data / Test data"
      ]
    },
    {
      "cell_type": "code",
      "metadata": {
        "colab": {
          "base_uri": "https://localhost:8080/"
        },
        "id": "hL6uXO3UNr0U",
        "outputId": "6045ade5-c73c-4cd0-a92a-b11aa511df9b"
      },
      "source": [
        "final_score=model.evaluate(test_images,test_labels)\r\n",
        "print(final_score)"
      ],
      "execution_count": 13,
      "outputs": [
        {
          "output_type": "stream",
          "text": [
            "313/313 [==============================] - 1s 2ms/step - loss: 0.4642 - accuracy: 0.8709\n",
            "[0.46416133642196655, 0.8708999752998352]\n"
          ],
          "name": "stdout"
        }
      ]
    },
    {
      "cell_type": "markdown",
      "metadata": {
        "id": "28uk2l70p69J"
      },
      "source": [
        "#The accuracy that I obtained was 87.09 %"
      ]
    },
    {
      "cell_type": "code",
      "metadata": {
        "id": "VcefDmVtqKGh"
      },
      "source": [
        ""
      ],
      "execution_count": null,
      "outputs": []
    }
  ]
}